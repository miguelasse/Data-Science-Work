{
 "cells": [
  {
   "cell_type": "code",
   "execution_count": 3,
   "metadata": {
    "collapsed": false
   },
   "outputs": [
    {
     "data": {
      "text/plain": [
       "['year,month,date_of_month,day_of_week,births',\n",
       " '1994,1,1,6,8096',\n",
       " '1994,1,2,7,7772',\n",
       " '1994,1,3,1,10142',\n",
       " '1994,1,4,2,11248',\n",
       " '1994,1,5,3,11053',\n",
       " '1994,1,6,4,11406',\n",
       " '1994,1,7,5,11251',\n",
       " '1994,1,8,6,8653',\n",
       " '1994,1,9,7,7910',\n",
       " '1994,1,10,1,10498']"
      ]
     },
     "execution_count": 3,
     "metadata": {},
     "output_type": "execute_result"
    }
   ],
   "source": [
    "file = open(\"US_births_1994-2003_CDC_NCHS.csv\", \"r\")\n",
    "data = file.read()\n",
    "\n",
    "split_data = data.split(\"\\n\")\n",
    "\n",
    "split_data[0:11]\n",
    "\n"
   ]
  },
  {
   "cell_type": "code",
   "execution_count": 4,
   "metadata": {
    "collapsed": true
   },
   "outputs": [],
   "source": [
    "def read_csv(file):\n",
    "    file = open(file, \"r\")\n",
    "    data = file.read()\n",
    "\n",
    "    split_data = data.split(\"\\n\")\n",
    "    \n",
    "    string_list = split_data[1:]\n",
    "    \n",
    "    final_list = []\n",
    "    \n",
    "    for item in string_list:\n",
    "        int_fields = []\n",
    "        string_fields = item.split(\",\")\n",
    "        \n",
    "        for row in string_fields:\n",
    "            int_fields.append(int(row))\n",
    "            \n",
    "        final_list.append(int_fields)\n",
    "        \n",
    "    return final_list\n",
    "\n",
    "    \n",
    "    \n"
   ]
  },
  {
   "cell_type": "code",
   "execution_count": 5,
   "metadata": {
    "collapsed": false
   },
   "outputs": [
    {
     "data": {
      "text/plain": [
       "[[1994, 1, 1, 6, 8096],\n",
       " [1994, 1, 2, 7, 7772],\n",
       " [1994, 1, 3, 1, 10142],\n",
       " [1994, 1, 4, 2, 11248],\n",
       " [1994, 1, 5, 3, 11053],\n",
       " [1994, 1, 6, 4, 11406],\n",
       " [1994, 1, 7, 5, 11251],\n",
       " [1994, 1, 8, 6, 8653],\n",
       " [1994, 1, 9, 7, 7910],\n",
       " [1994, 1, 10, 1, 10498],\n",
       " [1994, 1, 11, 2, 11706]]"
      ]
     },
     "execution_count": 5,
     "metadata": {},
     "output_type": "execute_result"
    }
   ],
   "source": [
    "cdc_list = read_csv(\"US_births_1994-2003_CDC_NCHS.csv\")\n",
    "\n",
    "cdc_list[0:11]"
   ]
  },
  {
   "cell_type": "code",
   "execution_count": 8,
   "metadata": {
    "collapsed": false
   },
   "outputs": [
    {
     "data": {
      "text/plain": [
       "{1: 3232517,\n",
       " 2: 3018140,\n",
       " 3: 3322069,\n",
       " 4: 3185314,\n",
       " 5: 3350907,\n",
       " 6: 3296530,\n",
       " 7: 3498783,\n",
       " 8: 3525858,\n",
       " 9: 3439698,\n",
       " 10: 3378814,\n",
       " 11: 3171647,\n",
       " 12: 3301860}"
      ]
     },
     "execution_count": 8,
     "metadata": {},
     "output_type": "execute_result"
    }
   ],
   "source": [
    "def months_births(input_lst):\n",
    "    births_per_month = {}\n",
    "    for row in input_lst:\n",
    "        month = row[1]\n",
    "        births = row[4]\n",
    "        if month in births_per_month:\n",
    "            births_per_month[month] += births\n",
    "        else:\n",
    "            births_per_month[month] = births\n",
    "    return births_per_month\n",
    "\n",
    "cdc_months_birth = months_births(cdc_list)\n",
    "\n",
    "cdc_months_birth\n",
    "\n"
   ]
  },
  {
   "cell_type": "code",
   "execution_count": 9,
   "metadata": {
    "collapsed": false
   },
   "outputs": [
    {
     "data": {
      "text/plain": [
       "{1: 5789166,\n",
       " 2: 6446196,\n",
       " 3: 6322855,\n",
       " 4: 6288429,\n",
       " 5: 6233657,\n",
       " 6: 4562111,\n",
       " 7: 4079723}"
      ]
     },
     "execution_count": 9,
     "metadata": {},
     "output_type": "execute_result"
    }
   ],
   "source": [
    "def dow_births(input_lst):\n",
    "    \n",
    "    births_per_day_of_week = {}\n",
    "    for row in input_lst:\n",
    "        day_of_week = row[3]\n",
    "        births = row[4]\n",
    "        if day_of_week in births_per_day_of_week:\n",
    "            births_per_day_of_week[day_of_week] += births\n",
    "        else:\n",
    "            births_per_day_of_week[day_of_week] = births\n",
    "    return births_per_day_of_week\n",
    "\n",
    "cdc_day_births = dow_births(cdc_list)\n",
    "\n",
    "cdc_day_births\n"
   ]
  },
  {
   "cell_type": "code",
   "execution_count": 14,
   "metadata": {
    "collapsed": false
   },
   "outputs": [
    {
     "data": {
      "text/plain": [
       "{1994: 3952767,\n",
       " 1995: 3899589,\n",
       " 1996: 3891494,\n",
       " 1997: 3880894,\n",
       " 1998: 3941553,\n",
       " 1999: 3959417,\n",
       " 2000: 4058814,\n",
       " 2001: 4025933,\n",
       " 2002: 4021726,\n",
       " 2003: 4089950}"
      ]
     },
     "execution_count": 14,
     "metadata": {},
     "output_type": "execute_result"
    }
   ],
   "source": [
    "def calc_counts(input_lst, column):\n",
    "    \n",
    "    births_per_date_input = {}\n",
    "    for row in input_lst:\n",
    "        date_value = row[column]\n",
    "        births = row[4]\n",
    "        if date_value in births_per_date_input:\n",
    "            births_per_date_input[date_value] += births\n",
    "        else:\n",
    "            births_per_date_input[date_value] = births\n",
    "    return births_per_date_input\n",
    "\n",
    "cdc_year_births = calc_counts(cdc_list, 0)\n",
    "\n",
    "cdc_month_births = calc_counts(cdc_list, 1)\n",
    "\n",
    "cdc_dom_births = calc_counts(cdc_list, 2)\n",
    "\n",
    "cdc_dow_births = calc_counts(cdc_list, 3)\n",
    "\n",
    "cdc_year_births\n",
    "\n",
    "#cdc_month_births\n",
    "\n",
    "#cdc_dom_births\n",
    "\n",
    "#cdc_dow_births\n"
   ]
  },
  {
   "cell_type": "code",
   "execution_count": null,
   "metadata": {
    "collapsed": true
   },
   "outputs": [],
   "source": [
    "def dict_min_max(input_dict):\n",
    "    values = input_dict.values()\n",
    "    values_min = min(values)\n",
    "    values_max = max(values)\n",
    "    \n",
    "    print(\"The min \")"
   ]
  }
 ],
 "metadata": {
  "anaconda-cloud": {},
  "kernelspec": {
   "display_name": "Python 3",
   "language": "python",
   "name": "python3"
  },
  "language_info": {
   "codemirror_mode": {
    "name": "ipython",
    "version": 3
   },
   "file_extension": ".py",
   "mimetype": "text/x-python",
   "name": "python",
   "nbconvert_exporter": "python",
   "pygments_lexer": "ipython3",
   "version": "3.4.3"
  }
 },
 "nbformat": 4,
 "nbformat_minor": 1
}
