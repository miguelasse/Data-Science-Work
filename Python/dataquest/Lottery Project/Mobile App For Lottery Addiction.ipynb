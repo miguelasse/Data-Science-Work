{
 "cells": [
  {
   "cell_type": "markdown",
   "metadata": {},
   "source": [
    "## Lottery Project ##\n",
    "\n",
    "For this project, we're going to write do an analysis of a [Canadaian Lottery Dataset](https://www.kaggle.com/datascienceai/lottery-dataset) from Kaggle that will enable players of the [6/49 lottery](https://en.wikipedia.org/wiki/Lotto_6/49) to answer:\n",
    "\n",
    "* What is the probability of winning the big prize with a single ticket?\n",
    "* What is the probability of winning the big prize if we play 40 different tickets (or any other number)?\n",
    "* What is the probability of having at least five (or four, or three, or two) winning numbers on a single ticket?\n",
    "\n",
    "The dataset for 3,665 drawings, dating from 1982 to 2018"
   ]
  },
  {
   "cell_type": "code",
   "execution_count": 1,
   "metadata": {
    "collapsed": false
   },
   "outputs": [
    {
     "name": "stdout",
     "output_type": "stream",
     "text": [
      "6\n",
      "2598960.0\n"
     ]
    }
   ],
   "source": [
    "# Create factorial function \n",
    "def factorial(n):\n",
    "    final_product = 1\n",
    "    for integer in range(n, 0, -1):\n",
    "        final_product *= integer\n",
    "    return final_product\n",
    "\n",
    "# Test factorial function with 3 (3 * 2 * 1) = 6\n",
    "print(factorial(3))\n",
    "\n",
    "# Create combinations function\n",
    "def combinations(n, k):\n",
    "    numerator = factorial(n)\n",
    "    denominator = factorial(k) * factorial(n-k)\n",
    "    return numerator / denominator\n",
    "\n",
    "# Test combinations function with 52 and 5, like a game of poker\n",
    "# with 5 card draw and 52 total cards. We expect a total combination\n",
    "# of 2,598,960\n",
    "\n",
    "print(combinations(52,5))"
   ]
  },
  {
   "cell_type": "markdown",
   "metadata": {},
   "source": [
    " ## Writing the function to calculate the probability of winning\n",
    "    \n",
    "To properly calculate the probabily of a lottery player winning, we need to create some functions keeping the following restrictions in mind:\n",
    "\n",
    "* Inside the app, the user inputs six different numbers from 1 to 49.\n",
    "* The six numbers will come as a Python list, which will serve as the single input to our function.\n",
    "* We want the function to print the probability value in a friendly way — in a way that people without any probability training are able to understand.\n"
   ]
  },
  {
   "cell_type": "code",
   "execution_count": 2,
   "metadata": {
    "collapsed": false
   },
   "outputs": [
    {
     "data": {
      "text/plain": [
       "'The probability of you winning the 6/49 lottery is 0.000007%, or 1 in 13983816 possible combinations.'"
      ]
     },
     "execution_count": 2,
     "metadata": {},
     "output_type": "execute_result"
    }
   ],
   "source": [
    "def one_ticket_probability(input_list):\n",
    "    if len(input_list) != 6:\n",
    "        return \"Please enter a list of six numbers\"\n",
    "    else:\n",
    "        total_possible_outcomes = int(combinations(49, 6))\n",
    "        successful_outcomes = 1\n",
    "        winning_ticket_probability = successful_outcomes / total_possible_outcomes\n",
    "        return \"The probability of you winning the 6/49 lottery is {:2%}, or 1 in {} possible combinations.\".format(winning_ticket_probability, total_possible_outcomes) \n",
    "\n",
    "one_ticket_probability([1,2,3,4,5,6])\n",
    "\n"
   ]
  },
  {
   "cell_type": "markdown",
   "metadata": {
    "collapsed": true
   },
   "source": [
    "## one_ticket_probability function explained\n",
    "\n",
    "In the above step, we created a function that used our combinations function to determine the total number of possible winning combinations inherent in the 6/49 lottery.\n",
    "\n",
    "Then, we determined the probability of finding one winning ticket, over total possible outcomes, and used that to display to users their probability of winning with their numbers."
   ]
  },
  {
   "cell_type": "markdown",
   "metadata": {},
   "source": [
    "## Data analysis\n",
    "\n",
    "Now we're going to explore the historical data from the 6/49 lottery so we can add the ability to tell users if their numbers have ever historically won"
   ]
  },
  {
   "cell_type": "code",
   "execution_count": 3,
   "metadata": {
    "collapsed": false
   },
   "outputs": [
    {
     "data": {
      "text/plain": [
       "(3665, 11)"
      ]
     },
     "execution_count": 3,
     "metadata": {},
     "output_type": "execute_result"
    }
   ],
   "source": [
    "import pandas as pd\n",
    "\n",
    "data = pd.read_csv(\"649.csv\")\n",
    "\n",
    "data.shape"
   ]
  },
  {
   "cell_type": "code",
   "execution_count": 4,
   "metadata": {
    "collapsed": false
   },
   "outputs": [
    {
     "data": {
      "text/html": [
       "<div>\n",
       "<style scoped>\n",
       "    .dataframe tbody tr th:only-of-type {\n",
       "        vertical-align: middle;\n",
       "    }\n",
       "\n",
       "    .dataframe tbody tr th {\n",
       "        vertical-align: top;\n",
       "    }\n",
       "\n",
       "    .dataframe thead th {\n",
       "        text-align: right;\n",
       "    }\n",
       "</style>\n",
       "<table border=\"1\" class=\"dataframe\">\n",
       "  <thead>\n",
       "    <tr style=\"text-align: right;\">\n",
       "      <th></th>\n",
       "      <th>PRODUCT</th>\n",
       "      <th>DRAW NUMBER</th>\n",
       "      <th>SEQUENCE NUMBER</th>\n",
       "      <th>DRAW DATE</th>\n",
       "      <th>NUMBER DRAWN 1</th>\n",
       "      <th>NUMBER DRAWN 2</th>\n",
       "      <th>NUMBER DRAWN 3</th>\n",
       "      <th>NUMBER DRAWN 4</th>\n",
       "      <th>NUMBER DRAWN 5</th>\n",
       "      <th>NUMBER DRAWN 6</th>\n",
       "      <th>BONUS NUMBER</th>\n",
       "    </tr>\n",
       "  </thead>\n",
       "  <tbody>\n",
       "    <tr>\n",
       "      <th>0</th>\n",
       "      <td>649</td>\n",
       "      <td>1</td>\n",
       "      <td>0</td>\n",
       "      <td>6/12/1982</td>\n",
       "      <td>3</td>\n",
       "      <td>11</td>\n",
       "      <td>12</td>\n",
       "      <td>14</td>\n",
       "      <td>41</td>\n",
       "      <td>43</td>\n",
       "      <td>13</td>\n",
       "    </tr>\n",
       "    <tr>\n",
       "      <th>1</th>\n",
       "      <td>649</td>\n",
       "      <td>2</td>\n",
       "      <td>0</td>\n",
       "      <td>6/19/1982</td>\n",
       "      <td>8</td>\n",
       "      <td>33</td>\n",
       "      <td>36</td>\n",
       "      <td>37</td>\n",
       "      <td>39</td>\n",
       "      <td>41</td>\n",
       "      <td>9</td>\n",
       "    </tr>\n",
       "    <tr>\n",
       "      <th>2</th>\n",
       "      <td>649</td>\n",
       "      <td>3</td>\n",
       "      <td>0</td>\n",
       "      <td>6/26/1982</td>\n",
       "      <td>1</td>\n",
       "      <td>6</td>\n",
       "      <td>23</td>\n",
       "      <td>24</td>\n",
       "      <td>27</td>\n",
       "      <td>39</td>\n",
       "      <td>34</td>\n",
       "    </tr>\n",
       "  </tbody>\n",
       "</table>\n",
       "</div>"
      ],
      "text/plain": [
       "   PRODUCT  DRAW NUMBER  SEQUENCE NUMBER  DRAW DATE  NUMBER DRAWN 1  \\\n",
       "0      649            1                0  6/12/1982               3   \n",
       "1      649            2                0  6/19/1982               8   \n",
       "2      649            3                0  6/26/1982               1   \n",
       "\n",
       "   NUMBER DRAWN 2  NUMBER DRAWN 3  NUMBER DRAWN 4  NUMBER DRAWN 5  \\\n",
       "0              11              12              14              41   \n",
       "1              33              36              37              39   \n",
       "2               6              23              24              27   \n",
       "\n",
       "   NUMBER DRAWN 6  BONUS NUMBER  \n",
       "0              43            13  \n",
       "1              41             9  \n",
       "2              39            34  "
      ]
     },
     "execution_count": 4,
     "metadata": {},
     "output_type": "execute_result"
    }
   ],
   "source": [
    "data.head(3)"
   ]
  },
  {
   "cell_type": "code",
   "execution_count": 5,
   "metadata": {
    "collapsed": false
   },
   "outputs": [
    {
     "data": {
      "text/html": [
       "<div>\n",
       "<style scoped>\n",
       "    .dataframe tbody tr th:only-of-type {\n",
       "        vertical-align: middle;\n",
       "    }\n",
       "\n",
       "    .dataframe tbody tr th {\n",
       "        vertical-align: top;\n",
       "    }\n",
       "\n",
       "    .dataframe thead th {\n",
       "        text-align: right;\n",
       "    }\n",
       "</style>\n",
       "<table border=\"1\" class=\"dataframe\">\n",
       "  <thead>\n",
       "    <tr style=\"text-align: right;\">\n",
       "      <th></th>\n",
       "      <th>PRODUCT</th>\n",
       "      <th>DRAW NUMBER</th>\n",
       "      <th>SEQUENCE NUMBER</th>\n",
       "      <th>DRAW DATE</th>\n",
       "      <th>NUMBER DRAWN 1</th>\n",
       "      <th>NUMBER DRAWN 2</th>\n",
       "      <th>NUMBER DRAWN 3</th>\n",
       "      <th>NUMBER DRAWN 4</th>\n",
       "      <th>NUMBER DRAWN 5</th>\n",
       "      <th>NUMBER DRAWN 6</th>\n",
       "      <th>BONUS NUMBER</th>\n",
       "    </tr>\n",
       "  </thead>\n",
       "  <tbody>\n",
       "    <tr>\n",
       "      <th>3662</th>\n",
       "      <td>649</td>\n",
       "      <td>3589</td>\n",
       "      <td>0</td>\n",
       "      <td>6/13/2018</td>\n",
       "      <td>6</td>\n",
       "      <td>22</td>\n",
       "      <td>24</td>\n",
       "      <td>31</td>\n",
       "      <td>32</td>\n",
       "      <td>34</td>\n",
       "      <td>16</td>\n",
       "    </tr>\n",
       "    <tr>\n",
       "      <th>3663</th>\n",
       "      <td>649</td>\n",
       "      <td>3590</td>\n",
       "      <td>0</td>\n",
       "      <td>6/16/2018</td>\n",
       "      <td>2</td>\n",
       "      <td>15</td>\n",
       "      <td>21</td>\n",
       "      <td>31</td>\n",
       "      <td>38</td>\n",
       "      <td>49</td>\n",
       "      <td>8</td>\n",
       "    </tr>\n",
       "    <tr>\n",
       "      <th>3664</th>\n",
       "      <td>649</td>\n",
       "      <td>3591</td>\n",
       "      <td>0</td>\n",
       "      <td>6/20/2018</td>\n",
       "      <td>14</td>\n",
       "      <td>24</td>\n",
       "      <td>31</td>\n",
       "      <td>35</td>\n",
       "      <td>37</td>\n",
       "      <td>48</td>\n",
       "      <td>17</td>\n",
       "    </tr>\n",
       "  </tbody>\n",
       "</table>\n",
       "</div>"
      ],
      "text/plain": [
       "      PRODUCT  DRAW NUMBER  SEQUENCE NUMBER  DRAW DATE  NUMBER DRAWN 1  \\\n",
       "3662      649         3589                0  6/13/2018               6   \n",
       "3663      649         3590                0  6/16/2018               2   \n",
       "3664      649         3591                0  6/20/2018              14   \n",
       "\n",
       "      NUMBER DRAWN 2  NUMBER DRAWN 3  NUMBER DRAWN 4  NUMBER DRAWN 5  \\\n",
       "3662              22              24              31              32   \n",
       "3663              15              21              31              38   \n",
       "3664              24              31              35              37   \n",
       "\n",
       "      NUMBER DRAWN 6  BONUS NUMBER  \n",
       "3662              34            16  \n",
       "3663              49             8  \n",
       "3664              48            17  "
      ]
     },
     "execution_count": 5,
     "metadata": {},
     "output_type": "execute_result"
    }
   ],
   "source": [
    "data.tail(3)"
   ]
  },
  {
   "cell_type": "code",
   "execution_count": 6,
   "metadata": {
    "collapsed": false
   },
   "outputs": [
    {
     "data": {
      "text/plain": [
       "Index(['PRODUCT', 'DRAW NUMBER', 'SEQUENCE NUMBER', 'DRAW DATE',\n",
       "       'NUMBER DRAWN 1', 'NUMBER DRAWN 2', 'NUMBER DRAWN 3', 'NUMBER DRAWN 4',\n",
       "       'NUMBER DRAWN 5', 'NUMBER DRAWN 6', 'BONUS NUMBER'],\n",
       "      dtype='object')"
      ]
     },
     "execution_count": 6,
     "metadata": {},
     "output_type": "execute_result"
    }
   ],
   "source": [
    "data.columns"
   ]
  },
  {
   "cell_type": "code",
   "execution_count": 7,
   "metadata": {
    "collapsed": false
   },
   "outputs": [
    {
     "data": {
      "text/html": [
       "<div>\n",
       "<style scoped>\n",
       "    .dataframe tbody tr th:only-of-type {\n",
       "        vertical-align: middle;\n",
       "    }\n",
       "\n",
       "    .dataframe tbody tr th {\n",
       "        vertical-align: top;\n",
       "    }\n",
       "\n",
       "    .dataframe thead th {\n",
       "        text-align: right;\n",
       "    }\n",
       "</style>\n",
       "<table border=\"1\" class=\"dataframe\">\n",
       "  <thead>\n",
       "    <tr style=\"text-align: right;\">\n",
       "      <th></th>\n",
       "      <th>PRODUCT</th>\n",
       "      <th>draw_number</th>\n",
       "      <th>sequence_number</th>\n",
       "      <th>draw_date</th>\n",
       "      <th>number_drawn_1</th>\n",
       "      <th>number_drawn_2</th>\n",
       "      <th>number_drawn_3</th>\n",
       "      <th>number_drawn_4</th>\n",
       "      <th>number_drawn_5</th>\n",
       "      <th>number_drawn_6</th>\n",
       "      <th>bonus_number</th>\n",
       "    </tr>\n",
       "  </thead>\n",
       "  <tbody>\n",
       "    <tr>\n",
       "      <th>0</th>\n",
       "      <td>649</td>\n",
       "      <td>1</td>\n",
       "      <td>0</td>\n",
       "      <td>6/12/1982</td>\n",
       "      <td>3</td>\n",
       "      <td>11</td>\n",
       "      <td>12</td>\n",
       "      <td>14</td>\n",
       "      <td>41</td>\n",
       "      <td>43</td>\n",
       "      <td>13</td>\n",
       "    </tr>\n",
       "    <tr>\n",
       "      <th>1</th>\n",
       "      <td>649</td>\n",
       "      <td>2</td>\n",
       "      <td>0</td>\n",
       "      <td>6/19/1982</td>\n",
       "      <td>8</td>\n",
       "      <td>33</td>\n",
       "      <td>36</td>\n",
       "      <td>37</td>\n",
       "      <td>39</td>\n",
       "      <td>41</td>\n",
       "      <td>9</td>\n",
       "    </tr>\n",
       "    <tr>\n",
       "      <th>2</th>\n",
       "      <td>649</td>\n",
       "      <td>3</td>\n",
       "      <td>0</td>\n",
       "      <td>6/26/1982</td>\n",
       "      <td>1</td>\n",
       "      <td>6</td>\n",
       "      <td>23</td>\n",
       "      <td>24</td>\n",
       "      <td>27</td>\n",
       "      <td>39</td>\n",
       "      <td>34</td>\n",
       "    </tr>\n",
       "    <tr>\n",
       "      <th>3</th>\n",
       "      <td>649</td>\n",
       "      <td>4</td>\n",
       "      <td>0</td>\n",
       "      <td>7/3/1982</td>\n",
       "      <td>3</td>\n",
       "      <td>9</td>\n",
       "      <td>10</td>\n",
       "      <td>13</td>\n",
       "      <td>20</td>\n",
       "      <td>43</td>\n",
       "      <td>34</td>\n",
       "    </tr>\n",
       "    <tr>\n",
       "      <th>4</th>\n",
       "      <td>649</td>\n",
       "      <td>5</td>\n",
       "      <td>0</td>\n",
       "      <td>7/10/1982</td>\n",
       "      <td>5</td>\n",
       "      <td>14</td>\n",
       "      <td>21</td>\n",
       "      <td>31</td>\n",
       "      <td>34</td>\n",
       "      <td>47</td>\n",
       "      <td>45</td>\n",
       "    </tr>\n",
       "  </tbody>\n",
       "</table>\n",
       "</div>"
      ],
      "text/plain": [
       "   PRODUCT  draw_number  sequence_number  draw_date  number_drawn_1  \\\n",
       "0      649            1                0  6/12/1982               3   \n",
       "1      649            2                0  6/19/1982               8   \n",
       "2      649            3                0  6/26/1982               1   \n",
       "3      649            4                0   7/3/1982               3   \n",
       "4      649            5                0  7/10/1982               5   \n",
       "\n",
       "   number_drawn_2  number_drawn_3  number_drawn_4  number_drawn_5  \\\n",
       "0              11              12              14              41   \n",
       "1              33              36              37              39   \n",
       "2               6              23              24              27   \n",
       "3               9              10              13              20   \n",
       "4              14              21              31              34   \n",
       "\n",
       "   number_drawn_6  bonus_number  \n",
       "0              43            13  \n",
       "1              41             9  \n",
       "2              39            34  \n",
       "3              43            34  \n",
       "4              47            45  "
      ]
     },
     "execution_count": 7,
     "metadata": {},
     "output_type": "execute_result"
    }
   ],
   "source": [
    "columns_to_rename = {\"NUMBER DRAWN 1\":\"number_drawn_1\", \"NUMBER DRAWN 2\":\"number_drawn_2\", \"NUMBER DRAWN 3\":\"number_drawn_3\", \"NUMBER DRAWN 4\":\"number_drawn_4\", \"NUMBER DRAWN 5\":\"number_drawn_5\", \"NUMBER DRAWN 6\":\"number_drawn_6\", \"BONUS NUMBER\":\"bonus_number\", \"DRAW DATE\":\"draw_date\", \"SEQUENCE NUMBER\":\"sequence_number\", \"DRAW NUMBER\":\"draw_number\"}\n",
    "data = data.rename(columns=columns_to_rename)\n",
    "                     \n",
    "data.head()                     \n",
    "                     "
   ]
  },
  {
   "cell_type": "code",
   "execution_count": 8,
   "metadata": {
    "collapsed": false
   },
   "outputs": [],
   "source": [
    "def extract_numbers(row):\n",
    "    numbers = row[4:10]\n",
    "    numbers = set(numbers.values)\n",
    "    return numbers"
   ]
  },
  {
   "cell_type": "code",
   "execution_count": 9,
   "metadata": {
    "collapsed": false
   },
   "outputs": [],
   "source": [
    "lottery_numbers = data.apply(extract_numbers, axis=1)"
   ]
  },
  {
   "cell_type": "code",
   "execution_count": 10,
   "metadata": {
    "collapsed": false
   },
   "outputs": [
    {
     "data": {
      "text/plain": [
       "{3, 11, 12, 14, 41, 43}"
      ]
     },
     "execution_count": 10,
     "metadata": {},
     "output_type": "execute_result"
    }
   ],
   "source": [
    "lottery_numbers[0]"
   ]
  },
  {
   "cell_type": "code",
   "execution_count": 11,
   "metadata": {
    "collapsed": false
   },
   "outputs": [],
   "source": [
    "from collections import Counter\n",
    "def check_historical_occurence(user_list, historical_winning_numbers):\n",
    "    user_list = set(user_list)\n",
    "    historical_lottery_check = user_list == historical_winning_numbers\n",
    "    number_of_winning_submissions = historical_lottery_check.sum()\n",
    "    \n",
    "    if len(user_list) != 6:\n",
    "        return \"Please enter your guess as a list of six numbers\"\n",
    "    \n",
    "    if number_of_winning_submissions == 0:\n",
    "        return \"This combination has never been submitted as a guess in the 6/49 lottery. However you chances of winning are the same. You have a chance of 1 in 13983816 of winning.\"\n",
    "    \n",
    "    else:\n",
    "        return \"This combination has been submitted {} times as a guess in 6/49. However you chances of winning are the same. You have a chance of 1 in 13983816 of winning.\".format(number_of_winning_submissions) \n"
   ]
  },
  {
   "cell_type": "code",
   "execution_count": 12,
   "metadata": {
    "collapsed": false
   },
   "outputs": [
    {
     "data": {
      "text/plain": [
       "'This combination has never been submitted as a guess in the 6/49 lottery. However you chances of winning are the same. You have a chance of 1 in 13983816 of winning.'"
      ]
     },
     "execution_count": 12,
     "metadata": {},
     "output_type": "execute_result"
    }
   ],
   "source": [
    "check_historical_occurence([1,2,3,4,5,6],lottery_numbers)"
   ]
  },
  {
   "cell_type": "code",
   "execution_count": 13,
   "metadata": {
    "collapsed": false
   },
   "outputs": [
    {
     "data": {
      "text/plain": [
       "'This combination has been submitted 1 times as a guess in 6/49. However you chances of winning are the same. You have a chance of 1 in 13983816 of winning.'"
      ]
     },
     "execution_count": 13,
     "metadata": {},
     "output_type": "execute_result"
    }
   ],
   "source": [
    "check_historical_occurence([3, 11, 12, 14, 41, 43],lottery_numbers)"
   ]
  },
  {
   "cell_type": "code",
   "execution_count": 14,
   "metadata": {
    "collapsed": false
   },
   "outputs": [
    {
     "data": {
      "text/plain": [
       "'Please enter your guess as a list of six numbers'"
      ]
     },
     "execution_count": 14,
     "metadata": {},
     "output_type": "execute_result"
    }
   ],
   "source": [
    "check_historical_occurence([3, 11, 12, 14, 41],lottery_numbers)"
   ]
  },
  {
   "cell_type": "markdown",
   "metadata": {},
   "source": [
    "## check_historical_occurence function explained\n",
    "\n",
    "In the above function, we:\n",
    "    \n",
    "1. Extracted all the historical winning lottery combinations from our dataset\n",
    "1. Compared our user submitted values to all historical winning values\n",
    "1. Depending on the outcome, we return a different message to our users letting them know their submission has or has not one before, but that the probability they win is still extremely insignificant, ~ 1 in 13,983,816 chances"
   ]
  },
  {
   "cell_type": "code",
   "execution_count": 15,
   "metadata": {
    "collapsed": false
   },
   "outputs": [],
   "source": [
    "def multi_ticket_probability(number_of_submissions):\n",
    "    total_possible_outcomes = combinations(49, 6)\n",
    "    total_possible_outcomes = int(total_possible_outcomes)\n",
    "    possible_successful_outcomes = int(number_of_submissions)\n",
    "    winning_percentage = possible_successful_outcomes / total_possible_outcomes\n",
    "    \n",
    "    return \"The probability of your submissions winning the lottery is {} out of {} or {:2%}.\".format(possible_successful_outcomes, total_possible_outcomes, winning_percentage)\n",
    "\n"
   ]
  },
  {
   "cell_type": "code",
   "execution_count": 16,
   "metadata": {
    "collapsed": false
   },
   "outputs": [
    {
     "name": "stdout",
     "output_type": "stream",
     "text": [
      "The probability of your submissions winning the lottery is 1 out of 13983816 or 0.000007%.\n",
      "\n",
      "The probability of your submissions winning the lottery is 10 out of 13983816 or 0.000072%.\n",
      "\n",
      "The probability of your submissions winning the lottery is 100 out of 13983816 or 0.000715%.\n",
      "\n",
      "The probability of your submissions winning the lottery is 10000 out of 13983816 or 0.071511%.\n",
      "\n",
      "The probability of your submissions winning the lottery is 1000000 out of 13983816 or 7.151124%.\n",
      "\n",
      "The probability of your submissions winning the lottery is 6991908 out of 13983816 or 50.000000%.\n",
      "\n",
      "The probability of your submissions winning the lottery is 13983816 out of 13983816 or 100.000000%.\n",
      "\n"
     ]
    }
   ],
   "source": [
    "test_inputs = [1, 10, 100, 10000, 1000000, 6991908, 13983816]\n",
    "\n",
    "for number_of_guesses in test_inputs:\n",
    "    print(multi_ticket_probability(number_of_guesses)+\"\\n\")"
   ]
  },
  {
   "cell_type": "markdown",
   "metadata": {},
   "source": [
    "## multi_ticket_probability function explained\n",
    "\n",
    "Above, we used a function that took an integer as the number of submissions a user may plan to play the lottery and returns to them their chances of winning the lottery.\n",
    "\n",
    "We used a variety of test inputs to illustrate the number of lottery submissions it requires to increase the probability of winning, and to show how miniscule the chances of winning are."
   ]
  },
  {
   "cell_type": "markdown",
   "metadata": {},
   "source": [
    "## Probability of winning a smaller prize with 2-5 winning numbers\n",
    "\n",
    "The lottery also gives you a smaller bonus prize if you have 2 or more matching numbers. We're going to wrtie a function that:\n",
    "\n",
    "* Takes six different numbers from 1 to 49.\n",
    "* Takes a second integer between 2 and 5 that represents the number of winning numbers expected\n",
    "* Our function will print information about the probability of having the inputted number of winning numbers.\n",
    "\n",
    "We'll need to consider the following probablity questions:\n",
    "* What is the probability of having ***exactly*** five winning numbers?\n",
    "* What is the probability of having ***at least*** five winning numbers?"
   ]
  },
  {
   "cell_type": "code",
   "execution_count": 54,
   "metadata": {
    "collapsed": true
   },
   "outputs": [],
   "source": [
    "def probability_less_6(number_winning_numbers):\n",
    "    total_possible_outcomes = combinations(49, 6)\n",
    "    \n",
    "    total_possible_outcomes = int(total_possible_outcomes)\n",
    "    \n",
    "    number_of_combinations_ticket = combinations(6, number_winning_numbers)\n",
    "    remaining_outcomes = combinations(43, 6-number_winning_numbers)\n",
    "\n",
    "    number_of_successful_outcomes = number_of_combinations_ticket * remaining_outcomes\n",
    "    \n",
    "    number_of_successful_outcomes = int(number_of_successful_outcomes)\n",
    "    \n",
    "    winning_probability = number_of_successful_outcomes / total_possible_outcomes\n",
    "    return '''You have {} potential successful outcomes, out of {} total possible outcomes, or a probability of {:2%}\\n'''.format(number_of_successful_outcomes, total_possible_outcomes, winning_probability)\n",
    "\n"
   ]
  },
  {
   "cell_type": "code",
   "execution_count": 55,
   "metadata": {
    "collapsed": false
   },
   "outputs": [
    {
     "name": "stdout",
     "output_type": "stream",
     "text": [
      "You have 1851150 potential successful outcomes, out of 13983816 total possible outcomes, or a probability of 13.237803%\n",
      "\n",
      "You have 246820 potential successful outcomes, out of 13983816 total possible outcomes, or a probability of 1.765040%\n",
      "\n",
      "You have 13545 potential successful outcomes, out of 13983816 total possible outcomes, or a probability of 0.096862%\n",
      "\n",
      "You have 258 potential successful outcomes, out of 13983816 total possible outcomes, or a probability of 0.001845%\n",
      "\n"
     ]
    }
   ],
   "source": [
    "possible_guesses = [2,3,4,5]\n",
    "\n",
    "for number in possible_guesses:\n",
    "    print(probability_less_6(number))"
   ]
  },
  {
   "cell_type": "markdown",
   "metadata": {},
   "source": [
    "## probability_less_6 function\n",
    "\n",
    "In the above step, we determined the total possible outcomes for bonus guesses, since the lottery gives smaller bonus prizes for combinations of 2-5 winning numbers.\n",
    "\n",
    "We determined:\n",
    "    \n",
    "1. The total possible outcomes of the lottery\n",
    "1. The total possible successful outcomes, based on the user's number of possible smaller bonus prizes between 2-5\n",
    "1. The number of remaining combinations after determining their total possible outcomes\n",
    "1. Their winning probability, based on their totally possible successful outcomes and the remaining outcomes\n",
    "    \n",
    "    "
   ]
  },
  {
   "cell_type": "code",
   "execution_count": null,
   "metadata": {
    "collapsed": true
   },
   "outputs": [],
   "source": []
  }
 ],
 "metadata": {
  "kernelspec": {
   "display_name": "Python 3",
   "language": "python",
   "name": "python3"
  },
  "language_info": {
   "codemirror_mode": {
    "name": "ipython",
    "version": 3
   },
   "file_extension": ".py",
   "mimetype": "text/x-python",
   "name": "python",
   "nbconvert_exporter": "python",
   "pygments_lexer": "ipython3",
   "version": "3.4.3"
  }
 },
 "nbformat": 4,
 "nbformat_minor": 2
}
