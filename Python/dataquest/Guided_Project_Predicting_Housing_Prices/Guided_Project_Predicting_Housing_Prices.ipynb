{
 "cells": [
  {
   "cell_type": "markdown",
   "metadata": {
    "collapsed": true
   },
   "source": [
    "## Ames Housing - Linear Regression\n",
    "\n",
    "We'll be using Linear Regression and the sklearn library to predict house sale prices.\n",
    "\n",
    "As part of that workflow we'll need to:\n",
    "\n",
    "1. Split our data into train and test sets\n",
    "2. Clean and transform the data with new features\n",
    "3. Determine the best features for our model\n",
    "4. Test and train our model based on the features we select"
   ]
  },
  {
   "cell_type": "code",
   "execution_count": 10,
   "metadata": {
    "collapsed": true
   },
   "outputs": [],
   "source": [
    "import pandas as pd\n",
    "import matplotlib.pyplot as plt\n",
    "import numpy as np\n",
    "\n",
    "from sklearn.linear_model import LinearRegression\n",
    "from sklearn.metrics import mean_squared_error"
   ]
  },
  {
   "cell_type": "code",
   "execution_count": 11,
   "metadata": {
    "collapsed": true
   },
   "outputs": [],
   "source": [
    "pd.options.display.width = 99\n",
    "data = pd.read_csv(\"AmesHousing.tsv\", delimiter=\"\\t\")"
   ]
  },
  {
   "cell_type": "code",
   "execution_count": 12,
   "metadata": {
    "collapsed": false
   },
   "outputs": [
    {
     "data": {
      "text/html": [
       "<div>\n",
       "<style scoped>\n",
       "    .dataframe tbody tr th:only-of-type {\n",
       "        vertical-align: middle;\n",
       "    }\n",
       "\n",
       "    .dataframe tbody tr th {\n",
       "        vertical-align: top;\n",
       "    }\n",
       "\n",
       "    .dataframe thead th {\n",
       "        text-align: right;\n",
       "    }\n",
       "</style>\n",
       "<table border=\"1\" class=\"dataframe\">\n",
       "  <thead>\n",
       "    <tr style=\"text-align: right;\">\n",
       "      <th></th>\n",
       "      <th>Order</th>\n",
       "      <th>PID</th>\n",
       "      <th>MS SubClass</th>\n",
       "      <th>MS Zoning</th>\n",
       "      <th>Lot Frontage</th>\n",
       "      <th>Lot Area</th>\n",
       "      <th>Street</th>\n",
       "      <th>Alley</th>\n",
       "      <th>Lot Shape</th>\n",
       "      <th>Land Contour</th>\n",
       "      <th>...</th>\n",
       "      <th>Pool Area</th>\n",
       "      <th>Pool QC</th>\n",
       "      <th>Fence</th>\n",
       "      <th>Misc Feature</th>\n",
       "      <th>Misc Val</th>\n",
       "      <th>Mo Sold</th>\n",
       "      <th>Yr Sold</th>\n",
       "      <th>Sale Type</th>\n",
       "      <th>Sale Condition</th>\n",
       "      <th>SalePrice</th>\n",
       "    </tr>\n",
       "  </thead>\n",
       "  <tbody>\n",
       "    <tr>\n",
       "      <th>0</th>\n",
       "      <td>1</td>\n",
       "      <td>526301100</td>\n",
       "      <td>20</td>\n",
       "      <td>RL</td>\n",
       "      <td>141.0</td>\n",
       "      <td>31770</td>\n",
       "      <td>Pave</td>\n",
       "      <td>NaN</td>\n",
       "      <td>IR1</td>\n",
       "      <td>Lvl</td>\n",
       "      <td>...</td>\n",
       "      <td>0</td>\n",
       "      <td>NaN</td>\n",
       "      <td>NaN</td>\n",
       "      <td>NaN</td>\n",
       "      <td>0</td>\n",
       "      <td>5</td>\n",
       "      <td>2010</td>\n",
       "      <td>WD</td>\n",
       "      <td>Normal</td>\n",
       "      <td>215000</td>\n",
       "    </tr>\n",
       "    <tr>\n",
       "      <th>1</th>\n",
       "      <td>2</td>\n",
       "      <td>526350040</td>\n",
       "      <td>20</td>\n",
       "      <td>RH</td>\n",
       "      <td>80.0</td>\n",
       "      <td>11622</td>\n",
       "      <td>Pave</td>\n",
       "      <td>NaN</td>\n",
       "      <td>Reg</td>\n",
       "      <td>Lvl</td>\n",
       "      <td>...</td>\n",
       "      <td>0</td>\n",
       "      <td>NaN</td>\n",
       "      <td>MnPrv</td>\n",
       "      <td>NaN</td>\n",
       "      <td>0</td>\n",
       "      <td>6</td>\n",
       "      <td>2010</td>\n",
       "      <td>WD</td>\n",
       "      <td>Normal</td>\n",
       "      <td>105000</td>\n",
       "    </tr>\n",
       "    <tr>\n",
       "      <th>2</th>\n",
       "      <td>3</td>\n",
       "      <td>526351010</td>\n",
       "      <td>20</td>\n",
       "      <td>RL</td>\n",
       "      <td>81.0</td>\n",
       "      <td>14267</td>\n",
       "      <td>Pave</td>\n",
       "      <td>NaN</td>\n",
       "      <td>IR1</td>\n",
       "      <td>Lvl</td>\n",
       "      <td>...</td>\n",
       "      <td>0</td>\n",
       "      <td>NaN</td>\n",
       "      <td>NaN</td>\n",
       "      <td>Gar2</td>\n",
       "      <td>12500</td>\n",
       "      <td>6</td>\n",
       "      <td>2010</td>\n",
       "      <td>WD</td>\n",
       "      <td>Normal</td>\n",
       "      <td>172000</td>\n",
       "    </tr>\n",
       "    <tr>\n",
       "      <th>3</th>\n",
       "      <td>4</td>\n",
       "      <td>526353030</td>\n",
       "      <td>20</td>\n",
       "      <td>RL</td>\n",
       "      <td>93.0</td>\n",
       "      <td>11160</td>\n",
       "      <td>Pave</td>\n",
       "      <td>NaN</td>\n",
       "      <td>Reg</td>\n",
       "      <td>Lvl</td>\n",
       "      <td>...</td>\n",
       "      <td>0</td>\n",
       "      <td>NaN</td>\n",
       "      <td>NaN</td>\n",
       "      <td>NaN</td>\n",
       "      <td>0</td>\n",
       "      <td>4</td>\n",
       "      <td>2010</td>\n",
       "      <td>WD</td>\n",
       "      <td>Normal</td>\n",
       "      <td>244000</td>\n",
       "    </tr>\n",
       "    <tr>\n",
       "      <th>4</th>\n",
       "      <td>5</td>\n",
       "      <td>527105010</td>\n",
       "      <td>60</td>\n",
       "      <td>RL</td>\n",
       "      <td>74.0</td>\n",
       "      <td>13830</td>\n",
       "      <td>Pave</td>\n",
       "      <td>NaN</td>\n",
       "      <td>IR1</td>\n",
       "      <td>Lvl</td>\n",
       "      <td>...</td>\n",
       "      <td>0</td>\n",
       "      <td>NaN</td>\n",
       "      <td>MnPrv</td>\n",
       "      <td>NaN</td>\n",
       "      <td>0</td>\n",
       "      <td>3</td>\n",
       "      <td>2010</td>\n",
       "      <td>WD</td>\n",
       "      <td>Normal</td>\n",
       "      <td>189900</td>\n",
       "    </tr>\n",
       "  </tbody>\n",
       "</table>\n",
       "<p>5 rows × 82 columns</p>\n",
       "</div>"
      ],
      "text/plain": [
       "   Order        PID  MS SubClass MS Zoning  Lot Frontage  Lot Area Street Alley Lot Shape  \\\n",
       "0      1  526301100           20        RL         141.0     31770   Pave   NaN       IR1   \n",
       "1      2  526350040           20        RH          80.0     11622   Pave   NaN       Reg   \n",
       "2      3  526351010           20        RL          81.0     14267   Pave   NaN       IR1   \n",
       "3      4  526353030           20        RL          93.0     11160   Pave   NaN       Reg   \n",
       "4      5  527105010           60        RL          74.0     13830   Pave   NaN       IR1   \n",
       "\n",
       "  Land Contour    ...     Pool Area Pool QC  Fence Misc Feature Misc Val Mo Sold Yr Sold  \\\n",
       "0          Lvl    ...             0     NaN    NaN          NaN        0       5    2010   \n",
       "1          Lvl    ...             0     NaN  MnPrv          NaN        0       6    2010   \n",
       "2          Lvl    ...             0     NaN    NaN         Gar2    12500       6    2010   \n",
       "3          Lvl    ...             0     NaN    NaN          NaN        0       4    2010   \n",
       "4          Lvl    ...             0     NaN  MnPrv          NaN        0       3    2010   \n",
       "\n",
       "  Sale Type  Sale Condition  SalePrice  \n",
       "0       WD           Normal     215000  \n",
       "1       WD           Normal     105000  \n",
       "2       WD           Normal     172000  \n",
       "3       WD           Normal     244000  \n",
       "4       WD           Normal     189900  \n",
       "\n",
       "[5 rows x 82 columns]"
      ]
     },
     "execution_count": 12,
     "metadata": {},
     "output_type": "execute_result"
    }
   ],
   "source": [
    "data.head()\n"
   ]
  },
  {
   "cell_type": "code",
   "execution_count": 13,
   "metadata": {
    "collapsed": false
   },
   "outputs": [],
   "source": [
    "def transform_features(data):\n",
    "    # Drop unnecessary columns and/or columns that leak\n",
    "    # info about the sale\n",
    "    data = data.drop([\"PID\", \"Order\", \"Mo Sold\", \"Sale Condition\", \"Sale Type\"], axis=1)\n",
    "\n",
    "    # Drop any columns missing more than 25% of values\n",
    "    missing_25_percent_or_more = data.isnull().sum() / len(data) >= 0.25\n",
    "    clean_data = data[missing_25_percent_or_more[missing_25_percent_or_more == False].index]\n",
    "    \n",
    "    # Fill in numerical values missing 5% or less with the average value\n",
    "    numerical_columns = clean_data.select_dtypes(include=[\"float\", \"integer\"]).columns\n",
    "    missing_5_percent_or_less = clean_data[numerical_columns].isnull().sum() / len(clean_data) <= 0.05\n",
    "    \n",
    "    clean_data[missing_5_percent_or_less[missing_5_percent_or_less == True].index].fillna(clean_data.mean())\n",
    "    \n",
    "    # Create new features\n",
    "    clean_data[\"years_until_remodel\"] = clean_data[\"Year Remod/Add\"] - clean_data[\"Year Built\"]\n",
    "    clean_data[\"years_before_sale\"] = clean_data[\"Yr Sold\"] - clean_data[\"Year Built\"]\n",
    "    \n",
    "    # Drop year sold column that leaks information\n",
    "    del clean_data[\"Yr Sold\"]\n",
    "    del clean_data[\"Year Built\"]\n",
    "    del clean_data[\"Year Remod/Add\"]\n",
    "\n",
    "    return clean_data"
   ]
  },
  {
   "cell_type": "code",
   "execution_count": 15,
   "metadata": {
    "collapsed": false
   },
   "outputs": [],
   "source": [
    "def select_features(data):\n",
    "    \n",
    "    return train[columns]"
   ]
  },
  {
   "cell_type": "code",
   "execution_count": null,
   "metadata": {
    "collapsed": true
   },
   "outputs": [],
   "source": []
  },
  {
   "cell_type": "code",
   "execution_count": 16,
   "metadata": {
    "collapsed": false
   },
   "outputs": [
    {
     "name": "stderr",
     "output_type": "stream",
     "text": [
      "/dataquest/system/env/python3/lib/python3.4/site-packages/ipykernel/__main__.py:17: SettingWithCopyWarning:\n",
      "\n",
      "\n",
      "A value is trying to be set on a copy of a slice from a DataFrame.\n",
      "Try using .loc[row_indexer,col_indexer] = value instead\n",
      "\n",
      "See the caveats in the documentation: http://pandas.pydata.org/pandas-docs/stable/indexing.html#indexing-view-versus-copy\n",
      "\n",
      "/dataquest/system/env/python3/lib/python3.4/site-packages/ipykernel/__main__.py:18: SettingWithCopyWarning:\n",
      "\n",
      "\n",
      "A value is trying to be set on a copy of a slice from a DataFrame.\n",
      "Try using .loc[row_indexer,col_indexer] = value instead\n",
      "\n",
      "See the caveats in the documentation: http://pandas.pydata.org/pandas-docs/stable/indexing.html#indexing-view-versus-copy\n",
      "\n"
     ]
    },
    {
     "data": {
      "text/html": [
       "<div>\n",
       "<style scoped>\n",
       "    .dataframe tbody tr th:only-of-type {\n",
       "        vertical-align: middle;\n",
       "    }\n",
       "\n",
       "    .dataframe tbody tr th {\n",
       "        vertical-align: top;\n",
       "    }\n",
       "\n",
       "    .dataframe thead th {\n",
       "        text-align: right;\n",
       "    }\n",
       "</style>\n",
       "<table border=\"1\" class=\"dataframe\">\n",
       "  <thead>\n",
       "    <tr style=\"text-align: right;\">\n",
       "      <th></th>\n",
       "      <th>MS SubClass</th>\n",
       "      <th>MS Zoning</th>\n",
       "      <th>Lot Frontage</th>\n",
       "      <th>Lot Area</th>\n",
       "      <th>Street</th>\n",
       "      <th>Lot Shape</th>\n",
       "      <th>Land Contour</th>\n",
       "      <th>Utilities</th>\n",
       "      <th>Lot Config</th>\n",
       "      <th>Land Slope</th>\n",
       "      <th>...</th>\n",
       "      <th>Wood Deck SF</th>\n",
       "      <th>Open Porch SF</th>\n",
       "      <th>Enclosed Porch</th>\n",
       "      <th>3Ssn Porch</th>\n",
       "      <th>Screen Porch</th>\n",
       "      <th>Pool Area</th>\n",
       "      <th>Misc Val</th>\n",
       "      <th>SalePrice</th>\n",
       "      <th>years_until_remodel</th>\n",
       "      <th>years_before_sale</th>\n",
       "    </tr>\n",
       "  </thead>\n",
       "  <tbody>\n",
       "    <tr>\n",
       "      <th>0</th>\n",
       "      <td>20</td>\n",
       "      <td>RL</td>\n",
       "      <td>141.0</td>\n",
       "      <td>31770</td>\n",
       "      <td>Pave</td>\n",
       "      <td>IR1</td>\n",
       "      <td>Lvl</td>\n",
       "      <td>AllPub</td>\n",
       "      <td>Corner</td>\n",
       "      <td>Gtl</td>\n",
       "      <td>...</td>\n",
       "      <td>210</td>\n",
       "      <td>62</td>\n",
       "      <td>0</td>\n",
       "      <td>0</td>\n",
       "      <td>0</td>\n",
       "      <td>0</td>\n",
       "      <td>0</td>\n",
       "      <td>215000</td>\n",
       "      <td>0</td>\n",
       "      <td>50</td>\n",
       "    </tr>\n",
       "    <tr>\n",
       "      <th>1</th>\n",
       "      <td>20</td>\n",
       "      <td>RH</td>\n",
       "      <td>80.0</td>\n",
       "      <td>11622</td>\n",
       "      <td>Pave</td>\n",
       "      <td>Reg</td>\n",
       "      <td>Lvl</td>\n",
       "      <td>AllPub</td>\n",
       "      <td>Inside</td>\n",
       "      <td>Gtl</td>\n",
       "      <td>...</td>\n",
       "      <td>140</td>\n",
       "      <td>0</td>\n",
       "      <td>0</td>\n",
       "      <td>0</td>\n",
       "      <td>120</td>\n",
       "      <td>0</td>\n",
       "      <td>0</td>\n",
       "      <td>105000</td>\n",
       "      <td>0</td>\n",
       "      <td>49</td>\n",
       "    </tr>\n",
       "    <tr>\n",
       "      <th>2</th>\n",
       "      <td>20</td>\n",
       "      <td>RL</td>\n",
       "      <td>81.0</td>\n",
       "      <td>14267</td>\n",
       "      <td>Pave</td>\n",
       "      <td>IR1</td>\n",
       "      <td>Lvl</td>\n",
       "      <td>AllPub</td>\n",
       "      <td>Corner</td>\n",
       "      <td>Gtl</td>\n",
       "      <td>...</td>\n",
       "      <td>393</td>\n",
       "      <td>36</td>\n",
       "      <td>0</td>\n",
       "      <td>0</td>\n",
       "      <td>0</td>\n",
       "      <td>0</td>\n",
       "      <td>12500</td>\n",
       "      <td>172000</td>\n",
       "      <td>0</td>\n",
       "      <td>52</td>\n",
       "    </tr>\n",
       "    <tr>\n",
       "      <th>3</th>\n",
       "      <td>20</td>\n",
       "      <td>RL</td>\n",
       "      <td>93.0</td>\n",
       "      <td>11160</td>\n",
       "      <td>Pave</td>\n",
       "      <td>Reg</td>\n",
       "      <td>Lvl</td>\n",
       "      <td>AllPub</td>\n",
       "      <td>Corner</td>\n",
       "      <td>Gtl</td>\n",
       "      <td>...</td>\n",
       "      <td>0</td>\n",
       "      <td>0</td>\n",
       "      <td>0</td>\n",
       "      <td>0</td>\n",
       "      <td>0</td>\n",
       "      <td>0</td>\n",
       "      <td>0</td>\n",
       "      <td>244000</td>\n",
       "      <td>0</td>\n",
       "      <td>42</td>\n",
       "    </tr>\n",
       "    <tr>\n",
       "      <th>4</th>\n",
       "      <td>60</td>\n",
       "      <td>RL</td>\n",
       "      <td>74.0</td>\n",
       "      <td>13830</td>\n",
       "      <td>Pave</td>\n",
       "      <td>IR1</td>\n",
       "      <td>Lvl</td>\n",
       "      <td>AllPub</td>\n",
       "      <td>Inside</td>\n",
       "      <td>Gtl</td>\n",
       "      <td>...</td>\n",
       "      <td>212</td>\n",
       "      <td>34</td>\n",
       "      <td>0</td>\n",
       "      <td>0</td>\n",
       "      <td>0</td>\n",
       "      <td>0</td>\n",
       "      <td>0</td>\n",
       "      <td>189900</td>\n",
       "      <td>1</td>\n",
       "      <td>13</td>\n",
       "    </tr>\n",
       "  </tbody>\n",
       "</table>\n",
       "<p>5 rows × 71 columns</p>\n",
       "</div>"
      ],
      "text/plain": [
       "   MS SubClass MS Zoning  Lot Frontage  Lot Area Street Lot Shape Land Contour Utilities  \\\n",
       "0           20        RL         141.0     31770   Pave       IR1          Lvl    AllPub   \n",
       "1           20        RH          80.0     11622   Pave       Reg          Lvl    AllPub   \n",
       "2           20        RL          81.0     14267   Pave       IR1          Lvl    AllPub   \n",
       "3           20        RL          93.0     11160   Pave       Reg          Lvl    AllPub   \n",
       "4           60        RL          74.0     13830   Pave       IR1          Lvl    AllPub   \n",
       "\n",
       "  Lot Config Land Slope        ...        Wood Deck SF Open Porch SF Enclosed Porch 3Ssn Porch  \\\n",
       "0     Corner        Gtl        ...                 210            62              0          0   \n",
       "1     Inside        Gtl        ...                 140             0              0          0   \n",
       "2     Corner        Gtl        ...                 393            36              0          0   \n",
       "3     Corner        Gtl        ...                   0             0              0          0   \n",
       "4     Inside        Gtl        ...                 212            34              0          0   \n",
       "\n",
       "  Screen Porch  Pool Area  Misc Val SalePrice years_until_remodel years_before_sale  \n",
       "0            0          0         0    215000                   0                50  \n",
       "1          120          0         0    105000                   0                49  \n",
       "2            0          0     12500    172000                   0                52  \n",
       "3            0          0         0    244000                   0                42  \n",
       "4            0          0         0    189900                   1                13  \n",
       "\n",
       "[5 rows x 71 columns]"
      ]
     },
     "execution_count": 16,
     "metadata": {},
     "output_type": "execute_result"
    }
   ],
   "source": [
    "clean_data = transform_features(data)\n",
    "\n",
    "clean_data.head()\n"
   ]
  },
  {
   "cell_type": "code",
   "execution_count": 17,
   "metadata": {
    "collapsed": false
   },
   "outputs": [
    {
     "name": "stdout",
     "output_type": "stream",
     "text": [
      "850\n",
      "2180\n"
     ]
    },
    {
     "data": {
      "text/plain": [
       "(2930, 71)"
      ]
     },
     "execution_count": 17,
     "metadata": {},
     "output_type": "execute_result"
    }
   ],
   "source": [
    "for index, row in clean_data.iterrows():\n",
    "    if row[\"years_until_remodel\"] < 0:\n",
    "        print(index)\n",
    "        \n",
    "for index, row in clean_data.iterrows():\n",
    "    if row[\"years_before_sale\"] < 0:\n",
    "        print(index)\n",
    "        \n",
    "clean_data.shape\n"
   ]
  },
  {
   "cell_type": "code",
   "execution_count": 18,
   "metadata": {
    "collapsed": false
   },
   "outputs": [
    {
     "data": {
      "text/plain": [
       "(2928, 71)"
      ]
     },
     "execution_count": 18,
     "metadata": {},
     "output_type": "execute_result"
    }
   ],
   "source": [
    "# Drop bad data rows\n",
    "\n",
    "clean_data = clean_data.drop([850, 2180], axis=0)\n",
    "\n",
    "clean_data.shape\n"
   ]
  },
  {
   "cell_type": "markdown",
   "metadata": {},
   "source": [
    "## Feature Selection\n",
    "\n",
    "After cleaning and removing bad data. We'll determine the best numerical features to use in our linear regression model, based on the correlation coefficients and our business intuition.\n",
    "\n",
    "1. We only want to use features with an absolute value of correlation coefficient > 0.50\n",
    "\n",
    "\n",
    "1. We want to watch out for collinearity or multicollinearity, which is when two or more features are related to one another. The effect can be that it leads to a loss of reiability for the effect of the related features or odd results.\n",
    "\n",
    "If we think two of more features are related, we will remove one of the duplicative feature\n",
    "\n",
    "\n"
   ]
  },
  {
   "cell_type": "code",
   "execution_count": 19,
   "metadata": {
    "collapsed": false
   },
   "outputs": [
    {
     "data": {
      "text/plain": [
       "<matplotlib.axes._subplots.AxesSubplot at 0x7f0267206208>"
      ]
     },
     "execution_count": 19,
     "metadata": {},
     "output_type": "execute_result"
    },
    {
     "data": {
      "image/png": "[encoded data removed]",
      "text/plain": [
       "<matplotlib.figure.Figure at 0x7f0267049978>"
      ]
     },
     "metadata": {},
     "output_type": "display_data"
    }
   ],
   "source": [
    "%matplotlib inline\n",
    "import seaborn as sns\n",
    "\n",
    "numerical_cols = clean_data.select_dtypes(include=[\"integer\", \"float\"]).columns\n",
    "\n",
    "corr = clean_data[numerical_cols].corr()\n",
    "\n",
    "\n",
    "sns.heatmap(corr)\n"
   ]
  },
  {
   "cell_type": "code",
   "execution_count": 20,
   "metadata": {
    "collapsed": false
   },
   "outputs": [
    {
     "data": {
      "text/html": [
       "<div>\n",
       "<style scoped>\n",
       "    .dataframe tbody tr th:only-of-type {\n",
       "        vertical-align: middle;\n",
       "    }\n",
       "\n",
       "    .dataframe tbody tr th {\n",
       "        vertical-align: top;\n",
       "    }\n",
       "\n",
       "    .dataframe thead th {\n",
       "        text-align: right;\n",
       "    }\n",
       "</style>\n",
       "<table border=\"1\" class=\"dataframe\">\n",
       "  <thead>\n",
       "    <tr style=\"text-align: right;\">\n",
       "      <th></th>\n",
       "      <th>SalePrice</th>\n",
       "    </tr>\n",
       "  </thead>\n",
       "  <tbody>\n",
       "    <tr>\n",
       "      <th>Overall Qual</th>\n",
       "      <td>0.800279</td>\n",
       "    </tr>\n",
       "    <tr>\n",
       "      <th>Mas Vnr Area</th>\n",
       "      <td>0.511688</td>\n",
       "    </tr>\n",
       "    <tr>\n",
       "      <th>Total Bsmt SF</th>\n",
       "      <td>0.641467</td>\n",
       "    </tr>\n",
       "    <tr>\n",
       "      <th>1st Flr SF</th>\n",
       "      <td>0.632531</td>\n",
       "    </tr>\n",
       "    <tr>\n",
       "      <th>Gr Liv Area</th>\n",
       "      <td>0.712893</td>\n",
       "    </tr>\n",
       "    <tr>\n",
       "      <th>Full Bath</th>\n",
       "      <td>0.545641</td>\n",
       "    </tr>\n",
       "    <tr>\n",
       "      <th>Garage Yr Blt</th>\n",
       "      <td>0.527115</td>\n",
       "    </tr>\n",
       "    <tr>\n",
       "      <th>Garage Cars</th>\n",
       "      <td>0.648137</td>\n",
       "    </tr>\n",
       "    <tr>\n",
       "      <th>Garage Area</th>\n",
       "      <td>0.641448</td>\n",
       "    </tr>\n",
       "    <tr>\n",
       "      <th>SalePrice</th>\n",
       "      <td>1.000000</td>\n",
       "    </tr>\n",
       "    <tr>\n",
       "      <th>years_before_sale</th>\n",
       "      <td>-0.559042</td>\n",
       "    </tr>\n",
       "  </tbody>\n",
       "</table>\n",
       "</div>"
      ],
      "text/plain": [
       "                   SalePrice\n",
       "Overall Qual        0.800279\n",
       "Mas Vnr Area        0.511688\n",
       "Total Bsmt SF       0.641467\n",
       "1st Flr SF          0.632531\n",
       "Gr Liv Area         0.712893\n",
       "Full Bath           0.545641\n",
       "Garage Yr Blt       0.527115\n",
       "Garage Cars         0.648137\n",
       "Garage Area         0.641448\n",
       "SalePrice           1.000000\n",
       "years_before_sale  -0.559042"
      ]
     },
     "execution_count": 20,
     "metadata": {},
     "output_type": "execute_result"
    }
   ],
   "source": [
    "# Find the best overall features\n",
    "\n",
    "corr_sale_df = pd.DataFrame(corr[\"SalePrice\"])\n",
    "\n",
    "significant_corr = abs(corr_sale_df) >= 0.5\n",
    "significant_corr = corr_sale_df[significant_corr == True]\n",
    "\n",
    "significant_corr = significant_corr.dropna()\n",
    "\n",
    "significant_corr\n"
   ]
  },
  {
   "cell_type": "code",
   "execution_count": 21,
   "metadata": {
    "collapsed": false
   },
   "outputs": [
    {
     "name": "stdout",
     "output_type": "stream",
     "text": [
      "<class 'pandas.core.frame.DataFrame'>\n",
      "Int64Index: 2928 entries, 0 to 2929\n",
      "Data columns (total 11 columns):\n",
      "Overall Qual         2928 non-null int64\n",
      "Mas Vnr Area         2905 non-null float64\n",
      "Total Bsmt SF        2927 non-null float64\n",
      "1st Flr SF           2928 non-null int64\n",
      "Gr Liv Area          2928 non-null int64\n",
      "Full Bath            2928 non-null int64\n",
      "Garage Yr Blt        2769 non-null float64\n",
      "Garage Cars          2927 non-null float64\n",
      "Garage Area          2927 non-null float64\n",
      "SalePrice            2928 non-null int64\n",
      "years_before_sale    2928 non-null int64\n",
      "dtypes: float64(5), int64(6)\n",
      "memory usage: 274.5 KB\n"
     ]
    }
   ],
   "source": [
    "clean_data[significant_corr.index].info()\n"
   ]
  },
  {
   "cell_type": "code",
   "execution_count": 22,
   "metadata": {
    "collapsed": false
   },
   "outputs": [
    {
     "ename": "NameError",
     "evalue": "name 'features' is not defined",
     "output_type": "error",
     "traceback": [
      "\u001b[1;31m\u001b[0m",
      "\u001b[1;31mNameError\u001b[0mTraceback (most recent call last)",
      "\u001b[1;32m<ipython-input-22-2cbc9203038e>\u001b[0m in \u001b[0;36m<module>\u001b[1;34m()\u001b[0m\n\u001b[0;32m      1\u001b[0m \u001b[1;31m# Fill in the null values with the average\u001b[0m\u001b[1;33m\u001b[0m\u001b[1;33m\u001b[0m\u001b[0m\n\u001b[1;32m----> 2\u001b[1;33m \u001b[0mmissing_value_features\u001b[0m \u001b[1;33m=\u001b[0m \u001b[0mclean_data\u001b[0m\u001b[1;33m[\u001b[0m\u001b[0mfeatures\u001b[0m\u001b[1;33m]\u001b[0m\u001b[1;33m.\u001b[0m\u001b[0misnull\u001b[0m\u001b[1;33m(\u001b[0m\u001b[1;33m)\u001b[0m\u001b[1;33m.\u001b[0m\u001b[0msum\u001b[0m\u001b[1;33m(\u001b[0m\u001b[1;33m)\u001b[0m \u001b[1;33m>\u001b[0m \u001b[1;36m0\u001b[0m\u001b[1;33m\u001b[0m\u001b[0m\n\u001b[0m\u001b[0;32m      3\u001b[0m \u001b[1;33m\u001b[0m\u001b[0m\n\u001b[0;32m      4\u001b[0m \u001b[0mfilled_averages\u001b[0m \u001b[1;33m=\u001b[0m \u001b[0mclean_data\u001b[0m\u001b[1;33m[\u001b[0m\u001b[0mmissing_value_features\u001b[0m\u001b[1;33m[\u001b[0m\u001b[0mmissing_value_features\u001b[0m \u001b[1;33m==\u001b[0m \u001b[1;32mTrue\u001b[0m\u001b[1;33m]\u001b[0m\u001b[1;33m.\u001b[0m\u001b[0mindex\u001b[0m\u001b[1;33m]\u001b[0m\u001b[1;33m.\u001b[0m\u001b[0mfillna\u001b[0m\u001b[1;33m(\u001b[0m\u001b[0mclean_data\u001b[0m\u001b[1;33m.\u001b[0m\u001b[0mmean\u001b[0m\u001b[1;33m(\u001b[0m\u001b[1;33m)\u001b[0m\u001b[1;33m)\u001b[0m\u001b[1;33m\u001b[0m\u001b[0m\n\u001b[0;32m      5\u001b[0m \u001b[1;33m\u001b[0m\u001b[0m\n",
      "\u001b[1;31mNameError\u001b[0m: name 'features' is not defined"
     ]
    }
   ],
   "source": []
  },
  {
   "cell_type": "markdown",
   "metadata": {},
   "source": [
    "## Removing duplicative features\n",
    "\n",
    "We will remove:\n",
    "\n",
    "1. **Garage Yr Built**, as the year itself isn't very useful (although we could potentially make a feature from the years between the year the house was built and the year the garage was built\n",
    "\n",
    "1. **Garage Cars**. Garage Area is duplicative and the square feet may be a more useful metric for us as an estimator.\n"
   ]
  },
  {
   "cell_type": "code",
   "execution_count": 23,
   "metadata": {
    "collapsed": true
   },
   "outputs": [],
   "source": [
    "features = [\"Overall Qual\", \"Mas Vnr Area\", \"Total Bsmt SF\",\n",
    "            \"1st Flr SF\", \"Gr Liv Area\", \"Full Bath\", \"Garage Area\",\n",
    "            \"years_before_sale\"]\n",
    "\n",
    "target = [\"SalePrice\"]\n",
    "\n",
    "\n"
   ]
  },
  {
   "cell_type": "code",
   "execution_count": 24,
   "metadata": {
    "collapsed": false
   },
   "outputs": [
    {
     "data": {
      "text/plain": [
       "MS SubClass              0\n",
       "MS Zoning                0\n",
       "Lot Frontage           490\n",
       "Lot Area                 0\n",
       "Street                   0\n",
       "Lot Shape                0\n",
       "Land Contour             0\n",
       "Utilities                0\n",
       "Lot Config               0\n",
       "Land Slope               0\n",
       "Neighborhood             0\n",
       "Condition 1              0\n",
       "Condition 2              0\n",
       "Bldg Type                0\n",
       "House Style              0\n",
       "Overall Qual             0\n",
       "Overall Cond             0\n",
       "Roof Style               0\n",
       "Roof Matl                0\n",
       "Exterior 1st             0\n",
       "Exterior 2nd             0\n",
       "Mas Vnr Type            23\n",
       "Mas Vnr Area             0\n",
       "Exter Qual               0\n",
       "Exter Cond               0\n",
       "Foundation               0\n",
       "Bsmt Qual               80\n",
       "Bsmt Cond               80\n",
       "Bsmt Exposure           83\n",
       "BsmtFin Type 1          80\n",
       "                      ... \n",
       "Low Qual Fin SF          0\n",
       "Gr Liv Area              0\n",
       "Bsmt Full Bath           2\n",
       "Bsmt Half Bath           2\n",
       "Full Bath                0\n",
       "Half Bath                0\n",
       "Bedroom AbvGr            0\n",
       "Kitchen AbvGr            0\n",
       "Kitchen Qual             0\n",
       "TotRms AbvGrd            0\n",
       "Functional               0\n",
       "Fireplaces               0\n",
       "Garage Type            157\n",
       "Garage Yr Blt          159\n",
       "Garage Finish          159\n",
       "Garage Cars              1\n",
       "Garage Area              0\n",
       "Garage Qual            159\n",
       "Garage Cond            159\n",
       "Paved Drive              0\n",
       "Wood Deck SF             0\n",
       "Open Porch SF            0\n",
       "Enclosed Porch           0\n",
       "3Ssn Porch               0\n",
       "Screen Porch             0\n",
       "Pool Area                0\n",
       "Misc Val                 0\n",
       "SalePrice                0\n",
       "years_until_remodel      0\n",
       "years_before_sale        0\n",
       "Length: 71, dtype: int64"
      ]
     },
     "execution_count": 24,
     "metadata": {},
     "output_type": "execute_result"
    }
   ],
   "source": [
    "# Fill in the null values with the average\n",
    "missing_value_features = clean_data[features].isnull().sum() > 0\n",
    "\n",
    "filled_averages = clean_data[missing_value_features[missing_value_features == True].index].fillna(clean_data.mean())\n",
    "\n",
    "cols = filled_averages.columns\n",
    "\n",
    "for col in cols:\n",
    "    clean_data[col] = filled_averages[cols]\n",
    "\n",
    "clean_data.isnull().sum()"
   ]
  },
  {
   "cell_type": "markdown",
   "metadata": {},
   "source": [
    "## Logistic Regression Model\n",
    "\n",
    "Below we'll create a function that runs our logistic regression model and returns the root mean squared error."
   ]
  },
  {
   "cell_type": "code",
   "execution_count": 40,
   "metadata": {
    "collapsed": true
   },
   "outputs": [],
   "source": [
    "def train_and_test(data):\n",
    "    row_limit = round(len(data) / 2)\n",
    "    train = data[:row_limit]\n",
    "    test = data[row_limit:]\n",
    "    \n",
    "    lr = LinearRegression()\n",
    "    lr.fit(train[features], train[target])\n",
    "    \n",
    "    predictions = lr.predict(test[features])\n",
    "    \n",
    "    mse = mean_squared_error(test[target], predictions)\n",
    "    \n",
    "    rmse = np.sqrt(mse)\n",
    "    return rmse\n",
    "#     return print(\"The root mean squared error is: \" + str(rmse))\n",
    "\n",
    "    \n",
    "    \n"
   ]
  },
  {
   "cell_type": "code",
   "execution_count": 41,
   "metadata": {
    "collapsed": false
   },
   "outputs": [
    {
     "data": {
      "text/plain": [
       "38506.80563392972"
      ]
     },
     "execution_count": 41,
     "metadata": {},
     "output_type": "execute_result"
    }
   ],
   "source": [
    "train_and_test(clean_data)\n"
   ]
  },
  {
   "cell_type": "code",
   "execution_count": 57,
   "metadata": {
    "collapsed": false
   },
   "outputs": [],
   "source": [
    "def train_and_test_with_k(data, k):\n",
    "    from sklearn.model_selection import cross_val_score, KFold\n",
    "\n",
    "    # Determine features and target\n",
    "    features = [\"Overall Qual\", \"Mas Vnr Area\", \"Total Bsmt SF\",\n",
    "            \"1st Flr SF\", \"Gr Liv Area\", \"Full Bath\", \"Garage Area\",\n",
    "            \"years_before_sale\"]\n",
    "\n",
    "    target = [\"SalePrice\"]\n",
    "\n",
    "    \n",
    "    lr = LinearRegression()\n",
    "    \n",
    "    # If k = 0, perform holdout validation (50/50 split)\n",
    "    # Otherwise, perform a cross validation score.\n",
    "    \n",
    "    # Split data into train and test sets\n",
    "    if k == 0:\n",
    "        row_limit = round((len(data) / 2))\n",
    "        train = data[:row_limit]\n",
    "        test = data[row_limit:]\n",
    "        lr.fit(train[features], train[target])\n",
    "        predictions = lr.predict(test[features])\n",
    "        \n",
    "        mse = mean_squared_error(test[\"SalePrice\"], predictions)\n",
    "        rmse = np.sqrt(mse)\n",
    "        print(str(0), \" folds\", \"RMSE: \", str(rmse))\n",
    "\n",
    "    elif k == 1:\n",
    "        row_limit = round((len(data) / 2))\n",
    "        train = data[:row_limit]\n",
    "        test = data[row_limit:]\n",
    "        \n",
    "        lr.fit(train[features], train[target])\n",
    "        predictions_one = lr.predict(test[features])\n",
    "        \n",
    "        mse_one = mean_squared_error(test[\"SalePrice\"], predictions_one)\n",
    "        rmse_one = np.sqrt(mse_one)\n",
    "        \n",
    "        lr.fit(test[features], test[target])\n",
    "        predictions_two = lr.predict(train[features])\n",
    "        mse_two = mean_squared_error(train[\"SalePrice\"], predictions_two)\n",
    "        rmse_two = np.sqrt(mse_two)\n",
    "\n",
    "        avg_rmse = np.mean([rmse_one, rmse_two])\n",
    "    \n",
    "        print(str(1), \" fold\", \"Average RMSE: \", str(avg_rmse))\n",
    "    \n",
    "    else:\n",
    "        kf = KFold(n_splits = k, shuffle=True)\n",
    "        rmse_list = []\n",
    "        for train_index, test_index in kf.split(data):\n",
    "            train = data.iloc[train_index]\n",
    "            test = data.iloc[test_index]\n",
    "            lr.fit(train[features], train[target])\n",
    "            predictions = lr.predict(test[features])\n",
    "            mse = mean_squared_error(test[\"SalePrice\"], predictions)\n",
    "            rmse = np.sqrt(mse)\n",
    "            rmse_list.append(rmse)\n",
    "        print(rmse_list)\n",
    "        avg_rmse = np.mean(rmse_list)\n",
    "        print(\"The average RMSE is: \", str(avg_rmse))\n",
    "            \n",
    "            "
   ]
  },
  {
   "cell_type": "code",
   "execution_count": 75,
   "metadata": {
    "collapsed": false
   },
   "outputs": [
    {
     "name": "stdout",
     "output_type": "stream",
     "text": [
      "[36953.792611494246, 33096.63422494599, 31692.103303434553, 32014.19922041882, 36000.09032214241, 36160.78350762896, 33526.75649272355, 36691.07525325091, 48591.44309602704, 36361.55655563964]\n",
      "The average RMSE is:  36108.843458770614\n"
     ]
    }
   ],
   "source": [
    "train_and_test_with_k(clean_data, 10)"
   ]
  },
  {
   "cell_type": "code",
   "execution_count": 62,
   "metadata": {
    "collapsed": false
   },
   "outputs": [
    {
     "name": "stdout",
     "output_type": "stream",
     "text": [
      "0  folds RMSE:  38506.80563392972\n"
     ]
    }
   ],
   "source": [
    "train_and_test_with_k(clean_data, 0)"
   ]
  },
  {
   "cell_type": "code",
   "execution_count": 63,
   "metadata": {
    "collapsed": false
   },
   "outputs": [
    {
     "name": "stdout",
     "output_type": "stream",
     "text": [
      "1  fold Average RMSE:  36501.90549165368\n"
     ]
    }
   ],
   "source": [
    "train_and_test_with_k(clean_data, 1)"
   ]
  },
  {
   "cell_type": "markdown",
   "metadata": {},
   "source": [
    "## Next Steps\n",
    "\n",
    "To make the model better, I'd like to also explore:\n",
    "\n",
    "1. How can we determine what categorical values are useful for our model?\n",
    "\n",
    "2. Transform categorical data using the \"category\" type in Pandas, and use that to create \"dummy\" columns using the get_dummies function in Pandas to further improve our model"
   ]
  },
  {
   "cell_type": "code",
   "execution_count": null,
   "metadata": {
    "collapsed": true
   },
   "outputs": [],
   "source": []
  }
 ],
 "metadata": {
  "anaconda-cloud": {},
  "kernelspec": {
   "display_name": "Python 3",
   "language": "python",
   "name": "python3"
  },
  "language_info": {
   "codemirror_mode": {
    "name": "ipython",
    "version": 3
   },
   "file_extension": ".py",
   "mimetype": "text/x-python",
   "name": "python",
   "nbconvert_exporter": "python",
   "pygments_lexer": "ipython3",
   "version": "3.4.3"
  }
 },
 "nbformat": 4,
 "nbformat_minor": 2
}
