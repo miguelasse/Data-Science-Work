{
 "cells": [
  {
   "cell_type": "code",
   "execution_count": 76,
   "metadata": {},
   "outputs": [
    {
     "data": {
      "text/plain": [
       "0.806226    1350\n",
       "0.5         1262\n",
       "0.707107    1204\n",
       "0.921954    1175\n",
       "1.118034    1101\n",
       "1            925\n",
       "0.509902     892\n",
       "0.608276     825\n",
       "0.583095     817\n",
       "1.140175     807\n",
       "0.640312     806\n",
       "0.360555     799\n",
       "0.538516     794\n",
       "1.004988     785\n",
       "1.204159     774\n",
       "0.316228     767\n",
       "0.447214     744\n",
       "0.412311     743\n",
       "0.223607     739\n",
       "0.72111      739\n",
       "0.67082      720\n",
       "0.728011     704\n",
       "0.905539     685\n",
       "0.632456     685\n",
       "0.761577     677\n",
       "0.781025     676\n",
       "1.30384      660\n",
       "0.824621     658\n",
       "1.019804     654\n",
       "1.044031     650\n",
       "            ... \n",
       "7.433034       1\n",
       "4.879549       1\n",
       "6.280127       1\n",
       "6.216912       1\n",
       "6.870953       1\n",
       "6.907966       1\n",
       "4.414748       1\n",
       "4.998          1\n",
       "4.410215       1\n",
       "6.685058       1\n",
       "4.664762       1\n",
       "5.95483        1\n",
       "5.434151       1\n",
       "5.500909       1\n",
       "5.53263        1\n",
       "4.079216       1\n",
       "5.869412       1\n",
       "5.824088       1\n",
       "6.168468       1\n",
       "3.984972       1\n",
       "7.106335       1\n",
       "7.338937       1\n",
       "6.488451       1\n",
       "4.854894       1\n",
       "1.00005        1\n",
       "7.119691       1\n",
       "4.580393       1\n",
       "11.18034       1\n",
       "6.306346       1\n",
       "5.907622       1\n",
       "Length: 957, dtype: int64"
      ]
     },
     "execution_count": 76,
     "metadata": {},
     "output_type": "execute_result"
    }
   ],
   "source": [
    "import io\n",
    "import csv\n",
    "import pandas as pd\n",
    "from urllib import request\n",
    "\n",
    "response = request.urlopen('https://dq-content.s3.amazonaws.com/251/storm_data.csv')\n",
    "reader = csv.reader(io.TextIOWrapper(response))\n",
    "\n",
    "next(reader)\n",
    "\n",
    "## Lets do a check of the data, to get a sense of length and values for what\n",
    "## data type is most appropriate. Check all data values using a dictionary\n",
    "## and Pandas Series.\n",
    "\n",
    "check = []\n",
    "for line in reader:\n",
    "    check.append(line[13])\n",
    "    \n",
    "data = pd.Series(check)\n",
    "\n",
    "data.value_counts()\n"
   ]
  },
  {
   "cell_type": "code",
   "execution_count": 105,
   "metadata": {},
   "outputs": [],
   "source": [
    "## Connect to local postgres database and create our storm data table\n",
    "\n",
    "import psycopg2 as psy\n",
    "\n",
    "conn = psy.connect(dbname=\"postgres\", password=\"postgres\")\n",
    "\n",
    "cur = conn.cursor()\n",
    "\n",
    "cur.execute(\"\"\"CREATE TABLE storm_data (\n",
    "           fid INTEGER PRIMARY KEY,\n",
    "           year SMALLINT,\n",
    "           month SMALLINT,\n",
    "           day SMALLINT,\n",
    "           ad_time VARCHAR(5),\n",
    "           btid SMALLINT,\n",
    "           name VARCHAR(20),\n",
    "           lat DECIMAL(10,8),\n",
    "           long DECIMAL(11,8),\n",
    "           wind_kts SMALLINT,\n",
    "           pressure SMALLINT,\n",
    "           cat VARCHAR(2),\n",
    "           basin VARCHAR(15),\n",
    "           shape_leng REAL\n",
    "           )\"\"\")\n",
    "conn.commit()"
   ]
  },
  {
   "cell_type": "code",
   "execution_count": 106,
   "metadata": {},
   "outputs": [
    {
     "name": "stdout",
     "output_type": "stream",
     "text": [
      "(Column(name='fid', type_code=23, display_size=None, internal_size=4, precision=None, scale=None, null_ok=None), Column(name='year', type_code=21, display_size=None, internal_size=2, precision=None, scale=None, null_ok=None), Column(name='month', type_code=21, display_size=None, internal_size=2, precision=None, scale=None, null_ok=None), Column(name='day', type_code=21, display_size=None, internal_size=2, precision=None, scale=None, null_ok=None), Column(name='ad_time', type_code=1043, display_size=None, internal_size=5, precision=None, scale=None, null_ok=None), Column(name='btid', type_code=21, display_size=None, internal_size=2, precision=None, scale=None, null_ok=None), Column(name='name', type_code=1043, display_size=None, internal_size=20, precision=None, scale=None, null_ok=None), Column(name='lat', type_code=1700, display_size=None, internal_size=10, precision=10, scale=8, null_ok=None), Column(name='long', type_code=1700, display_size=None, internal_size=11, precision=11, scale=8, null_ok=None), Column(name='wind_kts', type_code=21, display_size=None, internal_size=2, precision=None, scale=None, null_ok=None), Column(name='pressure', type_code=21, display_size=None, internal_size=2, precision=None, scale=None, null_ok=None), Column(name='cat', type_code=1043, display_size=None, internal_size=2, precision=None, scale=None, null_ok=None), Column(name='basin', type_code=1043, display_size=None, internal_size=15, precision=None, scale=None, null_ok=None), Column(name='shape_leng', type_code=700, display_size=None, internal_size=4, precision=None, scale=None, null_ok=None))\n"
     ]
    }
   ],
   "source": [
    "## Let's check that our table was successfully created.\n",
    "\n",
    "cur.execute(\"SELECT * FROM storm_data\")\n",
    "print(cur.description)"
   ]
  },
  {
   "cell_type": "code",
   "execution_count": 107,
   "metadata": {},
   "outputs": [
    {
     "ename": "KeyboardInterrupt",
     "evalue": "",
     "output_type": "error",
     "traceback": [
      "\u001b[0;31m---------------------------------------------------------------------------\u001b[0m",
      "\u001b[0;31mKeyboardInterrupt\u001b[0m                         Traceback (most recent call last)",
      "\u001b[0;32m<ipython-input-107-dc3470629a56>\u001b[0m in \u001b[0;36m<module>\u001b[0;34m\u001b[0m\n\u001b[1;32m     12\u001b[0m             %s, %s, %s, %s, %s, %s)\n\u001b[1;32m     13\u001b[0m             \"\"\",\n\u001b[0;32m---> 14\u001b[0;31m             \u001b[0mrow\u001b[0m\u001b[0;34m\u001b[0m\u001b[0;34m\u001b[0m\u001b[0m\n\u001b[0m\u001b[1;32m     15\u001b[0m         )\n\u001b[1;32m     16\u001b[0m \u001b[0;34m\u001b[0m\u001b[0m\n",
      "\u001b[0;32m/anaconda3/lib/python3.6/encodings/utf_8.py\u001b[0m in \u001b[0;36mdecode\u001b[0;34m(input, errors)\u001b[0m\n\u001b[1;32m     13\u001b[0m \u001b[0mencode\u001b[0m \u001b[0;34m=\u001b[0m \u001b[0mcodecs\u001b[0m\u001b[0;34m.\u001b[0m\u001b[0mutf_8_encode\u001b[0m\u001b[0;34m\u001b[0m\u001b[0;34m\u001b[0m\u001b[0m\n\u001b[1;32m     14\u001b[0m \u001b[0;34m\u001b[0m\u001b[0m\n\u001b[0;32m---> 15\u001b[0;31m \u001b[0;32mdef\u001b[0m \u001b[0mdecode\u001b[0m\u001b[0;34m(\u001b[0m\u001b[0minput\u001b[0m\u001b[0;34m,\u001b[0m \u001b[0merrors\u001b[0m\u001b[0;34m=\u001b[0m\u001b[0;34m'strict'\u001b[0m\u001b[0;34m)\u001b[0m\u001b[0;34m:\u001b[0m\u001b[0;34m\u001b[0m\u001b[0;34m\u001b[0m\u001b[0m\n\u001b[0m\u001b[1;32m     16\u001b[0m     \u001b[0;32mreturn\u001b[0m \u001b[0mcodecs\u001b[0m\u001b[0;34m.\u001b[0m\u001b[0mutf_8_decode\u001b[0m\u001b[0;34m(\u001b[0m\u001b[0minput\u001b[0m\u001b[0;34m,\u001b[0m \u001b[0merrors\u001b[0m\u001b[0;34m,\u001b[0m \u001b[0;32mTrue\u001b[0m\u001b[0;34m)\u001b[0m\u001b[0;34m\u001b[0m\u001b[0;34m\u001b[0m\u001b[0m\n\u001b[1;32m     17\u001b[0m \u001b[0;34m\u001b[0m\u001b[0m\n",
      "\u001b[0;31mKeyboardInterrupt\u001b[0m: "
     ]
    }
   ],
   "source": [
    "## Let's load our data with the reader object we created above.\n",
    "\n",
    "\n",
    "response = request.urlopen('https://dq-content.s3.amazonaws.com/251/storm_data.csv')\n",
    "reader = csv.reader(io.TextIOWrapper(response))\n",
    "\n",
    "next(reader)\n",
    "\n",
    "for row in reader:\n",
    "    cur.execute(\n",
    "            \"\"\"INSERT INTO storm_data VALUES (%s, %s, %s, %s, %s, %s, %s, %s,\n",
    "            %s, %s, %s, %s, %s, %s)\n",
    "            \"\"\",\n",
    "            row\n",
    "        )\n",
    "\n",
    "conn.commit()\n",
    "\n"
   ]
  },
  {
   "cell_type": "code",
   "execution_count": null,
   "metadata": {},
   "outputs": [],
   "source": [
    "## Let's add a storm date column so we have the year, month and date in one column.\n",
    "\n",
    "cur.execute(\"\"\" ALTER TABLE storm_data\n",
    "                ADD COLUMN date DATE \n",
    "            \"\"\")\n",
    "\n",
    "cur.execute(\"\"\" UPDATE storm_data\n",
    "                SET date = to_date(year || '-' || month || '-' || day, 'YYYY-MM-DD')\n",
    "            \"\"\")\n",
    "\n",
    "conn.commit()"
   ]
  },
  {
   "cell_type": "code",
   "execution_count": null,
   "metadata": {},
   "outputs": [],
   "source": [
    "## Now let's create a user that can read, insert, and update data but not delete it.\n",
    "\n",
    "cur.execute(\"CREATE USER data_analyst PASSWORD 'analyst123'\")\n",
    "cur.execute(\"REVOKE ALL ON storm_data FROM data_analyst\")\n",
    "cur.execute(\"GRANT SELECT ON storm_data TO data_analyst\")\n",
    "cur.execute(\"GRANT INSERT ON storm_data TO data_analyst\")\n",
    "cur.execute(\"GRANT UPDATE ON storm_data TO data_analyst\")\n",
    "\n",
    "conn.commit()\n",
    "\n"
   ]
  },
  {
   "cell_type": "code",
   "execution_count": null,
   "metadata": {},
   "outputs": [],
   "source": [
    "\n"
   ]
  }
 ],
 "metadata": {
  "kernelspec": {
   "display_name": "Python 3",
   "language": "python",
   "name": "python3"
  },
  "language_info": {
   "codemirror_mode": {
    "name": "ipython",
    "version": 3
   },
   "file_extension": ".py",
   "mimetype": "text/x-python",
   "name": "python",
   "nbconvert_exporter": "python",
   "pygments_lexer": "ipython3",
   "version": "3.6.8"
  }
 },
 "nbformat": 4,
 "nbformat_minor": 2
}
